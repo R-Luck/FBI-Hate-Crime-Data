{
 "cells": [
  {
   "cell_type": "markdown",
   "metadata": {},
   "source": [
    "# Categorisation of Variables"
   ]
  },
  {
   "cell_type": "markdown",
   "metadata": {},
   "source": [
    "### This script contains the following points:\n",
    "### 1. Import Libraries\n",
    "### 2. Import Data\n",
    "### 3. Data Consistency Checks\n",
    "### 4. Deriving New Variables\n",
    "### 5. Export Data"
   ]
  },
  {
   "cell_type": "markdown",
   "metadata": {},
   "source": [
    "### 1. Import Libraries"
   ]
  },
  {
   "cell_type": "code",
   "execution_count": 47,
   "metadata": {},
   "outputs": [],
   "source": [
    "import pandas as pd\n",
    "import numpy as np\n",
    "import os"
   ]
  },
  {
   "cell_type": "markdown",
   "metadata": {},
   "source": [
    "### 2. Import Data"
   ]
  },
  {
   "cell_type": "code",
   "execution_count": 48,
   "metadata": {},
   "outputs": [],
   "source": [
    "# Creating path string to data folder\n",
    "path = r'C:\\Users\\bexlu\\Desktop\\Career Foundry\\Data Immersion\\Achievement 6\\Project Folder'"
   ]
  },
  {
   "cell_type": "code",
   "execution_count": 49,
   "metadata": {},
   "outputs": [],
   "source": [
    "# Importing csv file using os library\n",
    "df = pd.read_csv(os.path.join(path, '02 Data', 'Prepared Data', 'tableau_visualisation.csv'), index_col = False)"
   ]
  },
  {
   "cell_type": "markdown",
   "metadata": {},
   "source": [
    "### 3. Data Consistency Checks"
   ]
  },
  {
   "cell_type": "code",
   "execution_count": 50,
   "metadata": {},
   "outputs": [
    {
     "data": {
      "text/html": [
       "<div>\n",
       "<style scoped>\n",
       "    .dataframe tbody tr th:only-of-type {\n",
       "        vertical-align: middle;\n",
       "    }\n",
       "\n",
       "    .dataframe tbody tr th {\n",
       "        vertical-align: top;\n",
       "    }\n",
       "\n",
       "    .dataframe thead th {\n",
       "        text-align: right;\n",
       "    }\n",
       "</style>\n",
       "<table border=\"1\" class=\"dataframe\">\n",
       "  <thead>\n",
       "    <tr style=\"text-align: right;\">\n",
       "      <th></th>\n",
       "      <th>Unnamed: 0</th>\n",
       "      <th>STATE_NAME</th>\n",
       "      <th>YEAR</th>\n",
       "      <th>GINI_INDEX</th>\n",
       "      <th>POVERTY_RATE</th>\n",
       "      <th>MEDIAN_HOUSEHOLD_INCOME</th>\n",
       "      <th>EMPLOYMENT_RATE</th>\n",
       "      <th>POPULATION_&gt;16</th>\n",
       "      <th>POPULATION&lt;HIGH_SCHOOL_GRADUATE</th>\n",
       "      <th>TOTAL_CRIME</th>\n",
       "      <th>clusters</th>\n",
       "      <th>cluster</th>\n",
       "      <th>_merge</th>\n",
       "    </tr>\n",
       "  </thead>\n",
       "  <tbody>\n",
       "    <tr>\n",
       "      <th>0</th>\n",
       "      <td>0</td>\n",
       "      <td>Alabama</td>\n",
       "      <td>2019</td>\n",
       "      <td>0.4741</td>\n",
       "      <td>0.154</td>\n",
       "      <td>51734</td>\n",
       "      <td>54.7</td>\n",
       "      <td>3937453</td>\n",
       "      <td>294290</td>\n",
       "      <td>5.0</td>\n",
       "      <td>2</td>\n",
       "      <td>dark purple</td>\n",
       "      <td>both</td>\n",
       "    </tr>\n",
       "    <tr>\n",
       "      <th>1</th>\n",
       "      <td>1</td>\n",
       "      <td>Alaska</td>\n",
       "      <td>2019</td>\n",
       "      <td>0.4376</td>\n",
       "      <td>0.107</td>\n",
       "      <td>75463</td>\n",
       "      <td>59.3</td>\n",
       "      <td>569699</td>\n",
       "      <td>24260</td>\n",
       "      <td>15.0</td>\n",
       "      <td>2</td>\n",
       "      <td>dark purple</td>\n",
       "      <td>both</td>\n",
       "    </tr>\n",
       "    <tr>\n",
       "      <th>2</th>\n",
       "      <td>2</td>\n",
       "      <td>Arizona</td>\n",
       "      <td>2019</td>\n",
       "      <td>0.4591</td>\n",
       "      <td>0.134</td>\n",
       "      <td>62055</td>\n",
       "      <td>56.8</td>\n",
       "      <td>5820607</td>\n",
       "      <td>460254</td>\n",
       "      <td>209.0</td>\n",
       "      <td>0</td>\n",
       "      <td>pink</td>\n",
       "      <td>both</td>\n",
       "    </tr>\n",
       "    <tr>\n",
       "      <th>3</th>\n",
       "      <td>3</td>\n",
       "      <td>Arkansas</td>\n",
       "      <td>2019</td>\n",
       "      <td>0.4750</td>\n",
       "      <td>0.165</td>\n",
       "      <td>48952</td>\n",
       "      <td>55.2</td>\n",
       "      <td>2401299</td>\n",
       "      <td>167437</td>\n",
       "      <td>34.0</td>\n",
       "      <td>2</td>\n",
       "      <td>dark purple</td>\n",
       "      <td>both</td>\n",
       "    </tr>\n",
       "    <tr>\n",
       "      <th>4</th>\n",
       "      <td>4</td>\n",
       "      <td>California</td>\n",
       "      <td>2019</td>\n",
       "      <td>0.4866</td>\n",
       "      <td>0.118</td>\n",
       "      <td>80440</td>\n",
       "      <td>60.3</td>\n",
       "      <td>31617786</td>\n",
       "      <td>3197226</td>\n",
       "      <td>1020.0</td>\n",
       "      <td>1</td>\n",
       "      <td>purple</td>\n",
       "      <td>both</td>\n",
       "    </tr>\n",
       "  </tbody>\n",
       "</table>\n",
       "</div>"
      ],
      "text/plain": [
       "   Unnamed: 0  STATE_NAME  YEAR  GINI_INDEX  POVERTY_RATE  \\\n",
       "0           0     Alabama  2019      0.4741         0.154   \n",
       "1           1      Alaska  2019      0.4376         0.107   \n",
       "2           2     Arizona  2019      0.4591         0.134   \n",
       "3           3    Arkansas  2019      0.4750         0.165   \n",
       "4           4  California  2019      0.4866         0.118   \n",
       "\n",
       "   MEDIAN_HOUSEHOLD_INCOME  EMPLOYMENT_RATE  POPULATION_>16  \\\n",
       "0                    51734             54.7         3937453   \n",
       "1                    75463             59.3          569699   \n",
       "2                    62055             56.8         5820607   \n",
       "3                    48952             55.2         2401299   \n",
       "4                    80440             60.3        31617786   \n",
       "\n",
       "   POPULATION<HIGH_SCHOOL_GRADUATE  TOTAL_CRIME  clusters      cluster _merge  \n",
       "0                           294290          5.0         2  dark purple   both  \n",
       "1                            24260         15.0         2  dark purple   both  \n",
       "2                           460254        209.0         0         pink   both  \n",
       "3                           167437         34.0         2  dark purple   both  \n",
       "4                          3197226       1020.0         1       purple   both  "
      ]
     },
     "execution_count": 50,
     "metadata": {},
     "output_type": "execute_result"
    }
   ],
   "source": [
    "# Print of first five rows of df\n",
    "df.head()"
   ]
  },
  {
   "cell_type": "code",
   "execution_count": 51,
   "metadata": {},
   "outputs": [
    {
     "data": {
      "text/plain": [
       "(399, 13)"
      ]
     },
     "execution_count": 51,
     "metadata": {},
     "output_type": "execute_result"
    }
   ],
   "source": [
    "# Check shape of dataframe\n",
    "df.shape"
   ]
  },
  {
   "cell_type": "code",
   "execution_count": 52,
   "metadata": {},
   "outputs": [
    {
     "data": {
      "text/plain": [
       "Unnamed: 0                         0\n",
       "STATE_NAME                         0\n",
       "YEAR                               0\n",
       "GINI_INDEX                         0\n",
       "POVERTY_RATE                       0\n",
       "MEDIAN_HOUSEHOLD_INCOME            0\n",
       "EMPLOYMENT_RATE                    0\n",
       "POPULATION_>16                     0\n",
       "POPULATION<HIGH_SCHOOL_GRADUATE    0\n",
       "TOTAL_CRIME                        0\n",
       "clusters                           0\n",
       "cluster                            0\n",
       "_merge                             0\n",
       "dtype: int64"
      ]
     },
     "execution_count": 52,
     "metadata": {},
     "output_type": "execute_result"
    }
   ],
   "source": [
    "# Check for missing values \n",
    "df.isnull().sum() "
   ]
  },
  {
   "cell_type": "code",
   "execution_count": 53,
   "metadata": {},
   "outputs": [
    {
     "data": {
      "text/plain": [
       "0"
      ]
     },
     "execution_count": 53,
     "metadata": {},
     "output_type": "execute_result"
    }
   ],
   "source": [
    "# Check for duplicates\n",
    "dups = df.duplicated()\n",
    "dups.sum()"
   ]
  },
  {
   "cell_type": "code",
   "execution_count": 54,
   "metadata": {},
   "outputs": [],
   "source": [
    "# Drop unnecessary columns\n",
    "df_drop = df.drop(columns = ['Unnamed: 0','_merge'])"
   ]
  },
  {
   "cell_type": "code",
   "execution_count": 55,
   "metadata": {},
   "outputs": [
    {
     "data": {
      "text/plain": [
       "(399, 11)"
      ]
     },
     "execution_count": 55,
     "metadata": {},
     "output_type": "execute_result"
    }
   ],
   "source": [
    "df_drop.shape"
   ]
  },
  {
   "cell_type": "code",
   "execution_count": 56,
   "metadata": {},
   "outputs": [
    {
     "data": {
      "text/html": [
       "<div>\n",
       "<style scoped>\n",
       "    .dataframe tbody tr th:only-of-type {\n",
       "        vertical-align: middle;\n",
       "    }\n",
       "\n",
       "    .dataframe tbody tr th {\n",
       "        vertical-align: top;\n",
       "    }\n",
       "\n",
       "    .dataframe thead th {\n",
       "        text-align: right;\n",
       "    }\n",
       "</style>\n",
       "<table border=\"1\" class=\"dataframe\">\n",
       "  <thead>\n",
       "    <tr style=\"text-align: right;\">\n",
       "      <th></th>\n",
       "      <th>STATE_NAME</th>\n",
       "      <th>YEAR</th>\n",
       "      <th>GINI_INDEX</th>\n",
       "      <th>POVERTY_RATE</th>\n",
       "      <th>MEDIAN_HOUSEHOLD_INCOME</th>\n",
       "      <th>EMPLOYMENT_RATE</th>\n",
       "      <th>POPULATION_&gt;16</th>\n",
       "      <th>POPULATION&lt;HIGH_SCHOOL_GRADUATE</th>\n",
       "      <th>TOTAL_CRIME</th>\n",
       "      <th>clusters</th>\n",
       "      <th>cluster</th>\n",
       "    </tr>\n",
       "  </thead>\n",
       "  <tbody>\n",
       "    <tr>\n",
       "      <th>0</th>\n",
       "      <td>Alabama</td>\n",
       "      <td>2019</td>\n",
       "      <td>0.4741</td>\n",
       "      <td>0.154</td>\n",
       "      <td>51734</td>\n",
       "      <td>54.7</td>\n",
       "      <td>3937453</td>\n",
       "      <td>294290</td>\n",
       "      <td>5.0</td>\n",
       "      <td>2</td>\n",
       "      <td>dark purple</td>\n",
       "    </tr>\n",
       "    <tr>\n",
       "      <th>1</th>\n",
       "      <td>Alaska</td>\n",
       "      <td>2019</td>\n",
       "      <td>0.4376</td>\n",
       "      <td>0.107</td>\n",
       "      <td>75463</td>\n",
       "      <td>59.3</td>\n",
       "      <td>569699</td>\n",
       "      <td>24260</td>\n",
       "      <td>15.0</td>\n",
       "      <td>2</td>\n",
       "      <td>dark purple</td>\n",
       "    </tr>\n",
       "    <tr>\n",
       "      <th>2</th>\n",
       "      <td>Arizona</td>\n",
       "      <td>2019</td>\n",
       "      <td>0.4591</td>\n",
       "      <td>0.134</td>\n",
       "      <td>62055</td>\n",
       "      <td>56.8</td>\n",
       "      <td>5820607</td>\n",
       "      <td>460254</td>\n",
       "      <td>209.0</td>\n",
       "      <td>0</td>\n",
       "      <td>pink</td>\n",
       "    </tr>\n",
       "    <tr>\n",
       "      <th>3</th>\n",
       "      <td>Arkansas</td>\n",
       "      <td>2019</td>\n",
       "      <td>0.4750</td>\n",
       "      <td>0.165</td>\n",
       "      <td>48952</td>\n",
       "      <td>55.2</td>\n",
       "      <td>2401299</td>\n",
       "      <td>167437</td>\n",
       "      <td>34.0</td>\n",
       "      <td>2</td>\n",
       "      <td>dark purple</td>\n",
       "    </tr>\n",
       "    <tr>\n",
       "      <th>4</th>\n",
       "      <td>California</td>\n",
       "      <td>2019</td>\n",
       "      <td>0.4866</td>\n",
       "      <td>0.118</td>\n",
       "      <td>80440</td>\n",
       "      <td>60.3</td>\n",
       "      <td>31617786</td>\n",
       "      <td>3197226</td>\n",
       "      <td>1020.0</td>\n",
       "      <td>1</td>\n",
       "      <td>purple</td>\n",
       "    </tr>\n",
       "  </tbody>\n",
       "</table>\n",
       "</div>"
      ],
      "text/plain": [
       "   STATE_NAME  YEAR  GINI_INDEX  POVERTY_RATE  MEDIAN_HOUSEHOLD_INCOME  \\\n",
       "0     Alabama  2019      0.4741         0.154                    51734   \n",
       "1      Alaska  2019      0.4376         0.107                    75463   \n",
       "2     Arizona  2019      0.4591         0.134                    62055   \n",
       "3    Arkansas  2019      0.4750         0.165                    48952   \n",
       "4  California  2019      0.4866         0.118                    80440   \n",
       "\n",
       "   EMPLOYMENT_RATE  POPULATION_>16  POPULATION<HIGH_SCHOOL_GRADUATE  \\\n",
       "0             54.7         3937453                           294290   \n",
       "1             59.3          569699                            24260   \n",
       "2             56.8         5820607                           460254   \n",
       "3             55.2         2401299                           167437   \n",
       "4             60.3        31617786                          3197226   \n",
       "\n",
       "   TOTAL_CRIME  clusters      cluster  \n",
       "0          5.0         2  dark purple  \n",
       "1         15.0         2  dark purple  \n",
       "2        209.0         0         pink  \n",
       "3         34.0         2  dark purple  \n",
       "4       1020.0         1       purple  "
      ]
     },
     "execution_count": 56,
     "metadata": {},
     "output_type": "execute_result"
    }
   ],
   "source": [
    "df_drop.head()"
   ]
  },
  {
   "cell_type": "markdown",
   "metadata": {},
   "source": [
    "### 4. Deriving New Variables"
   ]
  },
  {
   "cell_type": "code",
   "execution_count": 57,
   "metadata": {},
   "outputs": [
    {
     "data": {
      "text/plain": [
       "0.4081"
      ]
     },
     "execution_count": 57,
     "metadata": {},
     "output_type": "execute_result"
    }
   ],
   "source": [
    "# Find minimum value of 'GINI_INDEX' variable\n",
    "df_drop['GINI_INDEX'].min()"
   ]
  },
  {
   "cell_type": "code",
   "execution_count": 58,
   "metadata": {},
   "outputs": [
    {
     "data": {
      "text/plain": [
       "0.542"
      ]
     },
     "execution_count": 58,
     "metadata": {},
     "output_type": "execute_result"
    }
   ],
   "source": [
    "# Find maximum value of 'GINI_INDEX' variable\n",
    "df_drop['GINI_INDEX'].max()"
   ]
  },
  {
   "cell_type": "code",
   "execution_count": 59,
   "metadata": {},
   "outputs": [
    {
     "data": {
      "text/plain": [
       "0.46516140350877216"
      ]
     },
     "execution_count": 59,
     "metadata": {},
     "output_type": "execute_result"
    }
   ],
   "source": [
    "# Find mean value of 'GINI_INDEX' variable\n",
    "df_drop['GINI_INDEX'].mean()"
   ]
  },
  {
   "cell_type": "code",
   "execution_count": 60,
   "metadata": {},
   "outputs": [],
   "source": [
    "# Import visualisation libraries\n",
    "import seaborn as sns\n",
    "import matplotlib.pyplot as plt\n",
    "import matplotlib"
   ]
  },
  {
   "cell_type": "code",
   "execution_count": 61,
   "metadata": {},
   "outputs": [],
   "source": [
    "# Display charts in the notebook \n",
    "%matplotlib inline"
   ]
  },
  {
   "cell_type": "code",
   "execution_count": 62,
   "metadata": {},
   "outputs": [
    {
     "name": "stderr",
     "output_type": "stream",
     "text": [
      "C:\\Users\\bexlu\\anaconda3\\lib\\site-packages\\seaborn\\distributions.py:2551: FutureWarning: `distplot` is a deprecated function and will be removed in a future version. Please adapt your code to use either `displot` (a figure-level function with similar flexibility) or `histplot` (an axes-level function for histograms).\n",
      "  warnings.warn(msg, FutureWarning)\n"
     ]
    },
    {
     "data": {
      "text/plain": [
       "<AxesSubplot:xlabel='GINI_INDEX', ylabel='Density'>"
      ]
     },
     "execution_count": 62,
     "metadata": {},
     "output_type": "execute_result"
    },
    {
     "data": {
      "image/png": "[encoded data removed]",
      "text/plain": [
       "<Figure size 432x288 with 1 Axes>"
      ]
     },
     "metadata": {
      "needs_background": "light"
     },
     "output_type": "display_data"
    }
   ],
   "source": [
    "# Use a histogram to visualise the distribution of 'GINI_INDEX' ro inform values for categorisation\n",
    "sns.distplot(df_drop['GINI_INDEX'], bins = 10 )"
   ]
  },
  {
   "cell_type": "code",
   "execution_count": 63,
   "metadata": {},
   "outputs": [],
   "source": [
    "# Create new variable GINI_CATEGORY using loc function\n",
    "df_drop.loc[df_drop['GINI_INDEX'] < 0.45, 'GINI_CATEGORY'] = 'Lower Income Inequality'"
   ]
  },
  {
   "cell_type": "code",
   "execution_count": 64,
   "metadata": {},
   "outputs": [],
   "source": [
    "df_drop.loc[(df_drop['GINI_INDEX'] >= 0.45) & (df_drop['GINI_INDEX'] <= 0.475), 'GINI_CATEGORY'] = 'Medium Income Inequality'"
   ]
  },
  {
   "cell_type": "code",
   "execution_count": 65,
   "metadata": {},
   "outputs": [],
   "source": [
    "df_drop.loc[df_drop['GINI_INDEX'] > 0.475, 'GINI_CATEGORY'] = 'Higher Income Inequality'"
   ]
  },
  {
   "cell_type": "code",
   "execution_count": 66,
   "metadata": {},
   "outputs": [
    {
     "data": {
      "text/plain": [
       "Medium Income Inequality    175\n",
       "Higher Income Inequality    132\n",
       "Lower Income Inequality      92\n",
       "Name: GINI_CATEGORY, dtype: int64"
      ]
     },
     "execution_count": 66,
     "metadata": {},
     "output_type": "execute_result"
    }
   ],
   "source": [
    "# Frequency check new variable\n",
    "df_drop['GINI_CATEGORY'].value_counts(dropna = False)"
   ]
  },
  {
   "cell_type": "code",
   "execution_count": 67,
   "metadata": {},
   "outputs": [
    {
     "data": {
      "text/plain": [
       "15282"
      ]
     },
     "execution_count": 67,
     "metadata": {},
     "output_type": "execute_result"
    }
   ],
   "source": [
    "# Find minimum value of 'POPULATION<HIGH_SCHOOL_GRADUATE' variable\n",
    "df_drop['POPULATION<HIGH_SCHOOL_GRADUATE'].min()"
   ]
  },
  {
   "cell_type": "code",
   "execution_count": 68,
   "metadata": {},
   "outputs": [
    {
     "data": {
      "text/plain": [
       "3580971"
      ]
     },
     "execution_count": 68,
     "metadata": {},
     "output_type": "execute_result"
    }
   ],
   "source": [
    "# Find maximum value of 'POPULATION<HIGH_SCHOOL_GRADUATE' variable\n",
    "df_drop['POPULATION<HIGH_SCHOOL_GRADUATE'].max()"
   ]
  },
  {
   "cell_type": "code",
   "execution_count": 69,
   "metadata": {},
   "outputs": [
    {
     "data": {
      "text/plain": [
       "382164.8446115288"
      ]
     },
     "execution_count": 69,
     "metadata": {},
     "output_type": "execute_result"
    }
   ],
   "source": [
    "# Find mean value of 'POPULATION<HIGH_SCHOOL_GRADUATE' variable\n",
    "df_drop['POPULATION<HIGH_SCHOOL_GRADUATE'].mean()"
   ]
  },
  {
   "cell_type": "code",
   "execution_count": 70,
   "metadata": {},
   "outputs": [
    {
     "name": "stderr",
     "output_type": "stream",
     "text": [
      "C:\\Users\\bexlu\\anaconda3\\lib\\site-packages\\seaborn\\distributions.py:2551: FutureWarning: `distplot` is a deprecated function and will be removed in a future version. Please adapt your code to use either `displot` (a figure-level function with similar flexibility) or `histplot` (an axes-level function for histograms).\n",
      "  warnings.warn(msg, FutureWarning)\n"
     ]
    },
    {
     "data": {
      "text/plain": [
       "<AxesSubplot:xlabel='POPULATION<HIGH_SCHOOL_GRADUATE', ylabel='Density'>"
      ]
     },
     "execution_count": 70,
     "metadata": {},
     "output_type": "execute_result"
    },
    {
     "data": {
      "image/png": "[encoded data removed]",
      "text/plain": [
       "<Figure size 432x288 with 1 Axes>"
      ]
     },
     "metadata": {
      "needs_background": "light"
     },
     "output_type": "display_data"
    }
   ],
   "source": [
    "# Use a histogram to visualise the distribution of 'POPULATION<HIGH_SCHOOL_GRADUATE' ro inform values for categorisation\n",
    "sns.distplot(df_drop['POPULATION<HIGH_SCHOOL_GRADUATE'], bins = 10 )"
   ]
  },
  {
   "cell_type": "code",
   "execution_count": 78,
   "metadata": {},
   "outputs": [
    {
     "name": "stderr",
     "output_type": "stream",
     "text": [
      "C:\\Users\\bexlu\\anaconda3\\lib\\site-packages\\seaborn\\distributions.py:2551: FutureWarning: `distplot` is a deprecated function and will be removed in a future version. Please adapt your code to use either `displot` (a figure-level function with similar flexibility) or `histplot` (an axes-level function for histograms).\n",
      "  warnings.warn(msg, FutureWarning)\n"
     ]
    },
    {
     "data": {
      "text/plain": [
       "<AxesSubplot:xlabel='POPULATION<HIGH_SCHOOL_GRADUATE', ylabel='Density'>"
      ]
     },
     "execution_count": 78,
     "metadata": {},
     "output_type": "execute_result"
    },
    {
     "data": {
      "image/png": "[encoded data removed]",
      "text/plain": [
       "<Figure size 432x288 with 1 Axes>"
      ]
     },
     "metadata": {
      "needs_background": "light"
     },
     "output_type": "display_data"
    }
   ],
   "source": [
    "# Use a histogram to visualise the distribution of 'POPULATION<HIGH_SCHOOL_GRADUATE' ro inform values for categorisation\n",
    "sns.distplot(df_drop['POPULATION<HIGH_SCHOOL_GRADUATE'], bins = 20 )"
   ]
  },
  {
   "cell_type": "code",
   "execution_count": 76,
   "metadata": {},
   "outputs": [
    {
     "data": {
      "text/plain": [
       "count    3.990000e+02\n",
       "mean     3.821648e+05\n",
       "std      5.834591e+05\n",
       "min      1.528200e+04\n",
       "25%      8.162650e+04\n",
       "50%      2.264220e+05\n",
       "75%      4.043580e+05\n",
       "max      3.580971e+06\n",
       "Name: POPULATION<HIGH_SCHOOL_GRADUATE, dtype: float64"
      ]
     },
     "execution_count": 76,
     "metadata": {},
     "output_type": "execute_result"
    }
   ],
   "source": [
    "df_drop['POPULATION<HIGH_SCHOOL_GRADUATE'].describe()"
   ]
  },
  {
   "cell_type": "code",
   "execution_count": 86,
   "metadata": {},
   "outputs": [],
   "source": [
    "# Create new variable EDUCATION_CATEGORY using loc function\n",
    "df_drop.loc[df_drop['POPULATION<HIGH_SCHOOL_GRADUATE'] < 180000, 'EDUCATION_CATEGORY'] = 'Low Population Without High School Diploma'"
   ]
  },
  {
   "cell_type": "code",
   "execution_count": 87,
   "metadata": {},
   "outputs": [],
   "source": [
    "df_drop.loc[(df_drop['POPULATION<HIGH_SCHOOL_GRADUATE'] >= 180000) & (df_drop['POPULATION<HIGH_SCHOOL_GRADUATE'] <= 400000), 'EDUCATION_CATEGORY'] = 'Medium Population Without High School Diploma'"
   ]
  },
  {
   "cell_type": "code",
   "execution_count": 88,
   "metadata": {},
   "outputs": [],
   "source": [
    "df_drop.loc[df_drop['POPULATION<HIGH_SCHOOL_GRADUATE'] > 400000, 'EDUCATION_CATEGORY'] = 'High Population Without High School Diploma'"
   ]
  },
  {
   "cell_type": "code",
   "execution_count": 89,
   "metadata": {},
   "outputs": [
    {
     "data": {
      "text/plain": [
       "Low Population Without High School Diploma       160\n",
       "Medium Population Without High School Diploma    136\n",
       "High Population Without High School Diploma      103\n",
       "Name: EDUCATION_CATEGORY, dtype: int64"
      ]
     },
     "execution_count": 89,
     "metadata": {},
     "output_type": "execute_result"
    }
   ],
   "source": [
    "# Frequency check new variable\n",
    "df_drop['EDUCATION_CATEGORY'].value_counts(dropna = False)"
   ]
  },
  {
   "cell_type": "code",
   "execution_count": 91,
   "metadata": {},
   "outputs": [
    {
     "data": {
      "text/html": [
       "<div>\n",
       "<style scoped>\n",
       "    .dataframe tbody tr th:only-of-type {\n",
       "        vertical-align: middle;\n",
       "    }\n",
       "\n",
       "    .dataframe tbody tr th {\n",
       "        vertical-align: top;\n",
       "    }\n",
       "\n",
       "    .dataframe thead th {\n",
       "        text-align: right;\n",
       "    }\n",
       "</style>\n",
       "<table border=\"1\" class=\"dataframe\">\n",
       "  <thead>\n",
       "    <tr style=\"text-align: right;\">\n",
       "      <th></th>\n",
       "      <th>STATE_NAME</th>\n",
       "      <th>YEAR</th>\n",
       "      <th>GINI_INDEX</th>\n",
       "      <th>POVERTY_RATE</th>\n",
       "      <th>MEDIAN_HOUSEHOLD_INCOME</th>\n",
       "      <th>EMPLOYMENT_RATE</th>\n",
       "      <th>POPULATION_&gt;16</th>\n",
       "      <th>POPULATION&lt;HIGH_SCHOOL_GRADUATE</th>\n",
       "      <th>TOTAL_CRIME</th>\n",
       "      <th>clusters</th>\n",
       "      <th>cluster</th>\n",
       "      <th>GINI_CATEGORY</th>\n",
       "      <th>EDUCATION_CATEGORY</th>\n",
       "    </tr>\n",
       "  </thead>\n",
       "  <tbody>\n",
       "    <tr>\n",
       "      <th>0</th>\n",
       "      <td>Alabama</td>\n",
       "      <td>2019</td>\n",
       "      <td>0.4741</td>\n",
       "      <td>0.154</td>\n",
       "      <td>51734</td>\n",
       "      <td>54.7</td>\n",
       "      <td>3937453</td>\n",
       "      <td>294290</td>\n",
       "      <td>5.0</td>\n",
       "      <td>2</td>\n",
       "      <td>dark purple</td>\n",
       "      <td>Medium Income Inequality</td>\n",
       "      <td>Medium Population Without High School Diploma</td>\n",
       "    </tr>\n",
       "    <tr>\n",
       "      <th>1</th>\n",
       "      <td>Alaska</td>\n",
       "      <td>2019</td>\n",
       "      <td>0.4376</td>\n",
       "      <td>0.107</td>\n",
       "      <td>75463</td>\n",
       "      <td>59.3</td>\n",
       "      <td>569699</td>\n",
       "      <td>24260</td>\n",
       "      <td>15.0</td>\n",
       "      <td>2</td>\n",
       "      <td>dark purple</td>\n",
       "      <td>Lower Income Inequality</td>\n",
       "      <td>Low Population Without High School Diploma</td>\n",
       "    </tr>\n",
       "    <tr>\n",
       "      <th>2</th>\n",
       "      <td>Arizona</td>\n",
       "      <td>2019</td>\n",
       "      <td>0.4591</td>\n",
       "      <td>0.134</td>\n",
       "      <td>62055</td>\n",
       "      <td>56.8</td>\n",
       "      <td>5820607</td>\n",
       "      <td>460254</td>\n",
       "      <td>209.0</td>\n",
       "      <td>0</td>\n",
       "      <td>pink</td>\n",
       "      <td>Medium Income Inequality</td>\n",
       "      <td>High Population Without High School Diploma</td>\n",
       "    </tr>\n",
       "    <tr>\n",
       "      <th>3</th>\n",
       "      <td>Arkansas</td>\n",
       "      <td>2019</td>\n",
       "      <td>0.4750</td>\n",
       "      <td>0.165</td>\n",
       "      <td>48952</td>\n",
       "      <td>55.2</td>\n",
       "      <td>2401299</td>\n",
       "      <td>167437</td>\n",
       "      <td>34.0</td>\n",
       "      <td>2</td>\n",
       "      <td>dark purple</td>\n",
       "      <td>Medium Income Inequality</td>\n",
       "      <td>Low Population Without High School Diploma</td>\n",
       "    </tr>\n",
       "    <tr>\n",
       "      <th>4</th>\n",
       "      <td>California</td>\n",
       "      <td>2019</td>\n",
       "      <td>0.4866</td>\n",
       "      <td>0.118</td>\n",
       "      <td>80440</td>\n",
       "      <td>60.3</td>\n",
       "      <td>31617786</td>\n",
       "      <td>3197226</td>\n",
       "      <td>1020.0</td>\n",
       "      <td>1</td>\n",
       "      <td>purple</td>\n",
       "      <td>Higher Income Inequality</td>\n",
       "      <td>High Population Without High School Diploma</td>\n",
       "    </tr>\n",
       "  </tbody>\n",
       "</table>\n",
       "</div>"
      ],
      "text/plain": [
       "   STATE_NAME  YEAR  GINI_INDEX  POVERTY_RATE  MEDIAN_HOUSEHOLD_INCOME  \\\n",
       "0     Alabama  2019      0.4741         0.154                    51734   \n",
       "1      Alaska  2019      0.4376         0.107                    75463   \n",
       "2     Arizona  2019      0.4591         0.134                    62055   \n",
       "3    Arkansas  2019      0.4750         0.165                    48952   \n",
       "4  California  2019      0.4866         0.118                    80440   \n",
       "\n",
       "   EMPLOYMENT_RATE  POPULATION_>16  POPULATION<HIGH_SCHOOL_GRADUATE  \\\n",
       "0             54.7         3937453                           294290   \n",
       "1             59.3          569699                            24260   \n",
       "2             56.8         5820607                           460254   \n",
       "3             55.2         2401299                           167437   \n",
       "4             60.3        31617786                          3197226   \n",
       "\n",
       "   TOTAL_CRIME  clusters      cluster             GINI_CATEGORY  \\\n",
       "0          5.0         2  dark purple  Medium Income Inequality   \n",
       "1         15.0         2  dark purple   Lower Income Inequality   \n",
       "2        209.0         0         pink  Medium Income Inequality   \n",
       "3         34.0         2  dark purple  Medium Income Inequality   \n",
       "4       1020.0         1       purple  Higher Income Inequality   \n",
       "\n",
       "                              EDUCATION_CATEGORY  \n",
       "0  Medium Population Without High School Diploma  \n",
       "1     Low Population Without High School Diploma  \n",
       "2    High Population Without High School Diploma  \n",
       "3     Low Population Without High School Diploma  \n",
       "4    High Population Without High School Diploma  "
      ]
     },
     "execution_count": 91,
     "metadata": {},
     "output_type": "execute_result"
    }
   ],
   "source": [
    "df_drop.head()"
   ]
  },
  {
   "cell_type": "code",
   "execution_count": 93,
   "metadata": {},
   "outputs": [
    {
     "data": {
      "text/plain": [
       "(399, 13)"
      ]
     },
     "execution_count": 93,
     "metadata": {},
     "output_type": "execute_result"
    }
   ],
   "source": [
    "df_drop.shape"
   ]
  },
  {
   "cell_type": "markdown",
   "metadata": {},
   "source": [
    "### 5. Export Data"
   ]
  },
  {
   "cell_type": "code",
   "execution_count": 94,
   "metadata": {},
   "outputs": [],
   "source": [
    "# Export df_drop and save to 'Prepared Data'\n",
    "df_drop.to_csv(os.path.join(path, '02 Data', 'Prepared Data', 'tableau_categories.csv'))"
   ]
  },
  {
   "cell_type": "code",
   "execution_count": null,
   "metadata": {},
   "outputs": [],
   "source": []
  }
 ],
 "metadata": {
  "kernelspec": {
   "display_name": "Python 3",
   "language": "python",
   "name": "python3"
  },
  "language_info": {
   "codemirror_mode": {
    "name": "ipython",
    "version": 3
   },
   "file_extension": ".py",
   "mimetype": "text/x-python",
   "name": "python",
   "nbconvert_exporter": "python",
   "pygments_lexer": "ipython3",
   "version": "3.8.5"
  },
  "varInspector": {
   "cols": {
    "lenName": 16,
    "lenType": 16,
    "lenVar": 40
   },
   "kernels_config": {
    "python": {
     "delete_cmd_postfix": "",
     "delete_cmd_prefix": "del ",
     "library": "var_list.py",
     "varRefreshCmd": "print(var_dic_list())"
    },
    "r": {
     "delete_cmd_postfix": ") ",
     "delete_cmd_prefix": "rm(",
     "library": "var_list.r",
     "varRefreshCmd": "cat(var_dic_list()) "
    }
   },
   "types_to_exclude": [
    "module",
    "function",
    "builtin_function_or_method",
    "instance",
    "_Feature"
   ],
   "window_display": false
  }
 },
 "nbformat": 4,
 "nbformat_minor": 4
}
